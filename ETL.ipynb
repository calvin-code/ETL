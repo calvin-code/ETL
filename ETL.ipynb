{
 "cells": [
  {
   "cell_type": "code",
   "execution_count": 6,
   "id": "fb957c34-edaa-4129-8f05-096079024143",
   "metadata": {},
   "outputs": [],
   "source": [
    "\"\"\"\n",
    "5. Log Phase: Write a log method to log the given message along with the date-time information. Invoke\n",
    "this method before and after each of the above phases. \n",
    "\"\"\"\n",
    "import datetime\n",
    "def log_message(message):\n",
    "    timestamp = datetime.datetime.now().strftime('%Y-%m-%d %H:%M:%S')\n",
    "    print(f'{timestamp} - {message}')"
   ]
  },
  {
   "cell_type": "code",
   "execution_count": 2,
   "id": "b4213726-d1ff-4b83-a978-972dd08e2fc7",
   "metadata": {},
   "outputs": [
    {
     "name": "stdout",
     "output_type": "stream",
     "text": [
      "2023-12-10 01:57:20 - Start of Extraction Phase\n",
      "  car_model  year_of_manufacture         price    fuel\n",
      "0      ritz                 2014   5000.000000  Petrol\n",
      "1       sx4                 2013   7089.552239  Diesel\n",
      "2      ciaz                 2017  10820.895522  Petrol\n",
      "3   wagon r                 2011   4253.731343  Petrol\n",
      "4     swift                 2014   6865.671642  Diesel\n",
      "2023-12-10 01:57:20 - End of Extraction Phase\n"
     ]
    }
   ],
   "source": [
    "\"\"\"\n",
    "1. Write an extract method that extracts the data from all the csv, json, and xml files. Append all the data\n",
    "to a dataframe.\n",
    "\"\"\"\"\"\n",
    "\n",
    "import os\n",
    "import pandas\n",
    "import json\n",
    "import chardet\n",
    "import xml.etree.ElementTree \n",
    "log_message('Start of Extraction Phase')\n",
    "def deencoding(file_path):\n",
    "    with open(file_path, 'rb') as path:\n",
    "        results = chardet.detect(path.read())\n",
    "    return results['encoding']\n",
    "\n",
    "def parsexml(file):\n",
    "    xmltree = xml.etree.ElementTree.parse(file)\n",
    "    root = xmltree.getroot()\n",
    "\n",
    "    data = []\n",
    "    for car_element in root.findall('car'):\n",
    "        car_data = {\n",
    "            'car_model': car_element.find('model').text,\n",
    "            'car_price': float(car_element.find('price').text),\n",
    "            'Fuel': car_element.find('fuel').text,\n",
    "            'manufacturing_year': int(car_element.find('manufacturing_year').text)\n",
    "        }\n",
    "        data.append(car_data)\n",
    "\n",
    "    return pandas.DataFrame(data)\n",
    "\n",
    "def extract_data():\n",
    "    dir_path = 'C://Users//admin//Desktop//UsedCarsData'\n",
    "    all_files = os.listdir(dir_path)\n",
    "    # For CSV\n",
    "    csv_files = [file for file in all_files if file.startswith('used_car_prices') and file.endswith('.csv')]\n",
    "    dataframe_csv = pandas.concat((pandas.read_csv(os.path.join(dir_path, file), encoding=deencoding(os.path.join(dir_path, file))) for file in csv_files), ignore_index=True)\n",
    "    # For json\n",
    "    json_files = [file for file in all_files if file.startswith('used_car_prices') and file.endswith('.json')]\n",
    "    dataframe_json = pandas.DataFrame()\n",
    "    for file in json_files:\n",
    "        with open(os.path.join(dir_path, file), 'r') as f:\n",
    "            for line in f:\n",
    "                data = json.loads(line)\n",
    "                dataframe_json = pandas.concat([dataframe_json, pandas.json_normalize(data)], ignore_index=True)\n",
    "\n",
    "            dataframe_json = pandas.concat([dataframe_json, pandas.json_normalize(data)], ignore_index=True)\n",
    "\n",
    "    # For xml\n",
    "    xml_files = [file for file in all_files if file.startswith('used_car_prices') and file.endswith('.xml')]\n",
    "    dataframe_xml = pandas.concat((parsexml(os.path.join(dir_path, file)) for file in xml_files), ignore_index=True)\n",
    "    \n",
    "    # Combine dataframes\n",
    "    dataframe_combined = pandas.concat([dataframe_csv, dataframe_json, dataframe_xml], ignore_index=True)\n",
    "    \n",
    "    return dataframe_combined\n",
    "\n",
    "dataframe_extracted = extract_data()\n",
    "print(dataframe_extracted.head())\n",
    "log_message('End of Extraction Phase')"
   ]
  },
  {
   "cell_type": "code",
   "execution_count": 3,
   "id": "5f96cd02-d354-4684-a253-483c3ac22413",
   "metadata": {},
   "outputs": [
    {
     "name": "stdout",
     "output_type": "stream",
     "text": [
      "2023-12-10 01:57:21 - Start of Transformation Phase\n",
      "        car_model  year_of_manufacture     price  fuel  car_age\n",
      "0            RITZ                 2014   5000.00     2        8\n",
      "1             SX4                 2013   7089.55     1        9\n",
      "2            CIAZ                 2017  10820.90     2        5\n",
      "3         WAGON R                 2011   4253.73     2       11\n",
      "4           SWIFT                 2014   6865.67     1        8\n",
      "..            ...                  ...       ...   ...      ...\n",
      "58    ETIOS CROSS                 2015   6716.42     2        7\n",
      "59  COROLLA ALTIS                 2010   7089.55     2       12\n",
      "60        ETIOS G                 2014   6119.40     2        8\n",
      "61       FORTUNER                 2014  29835.82     1        8\n",
      "62       FORTUNER                 2014  29835.82     1        8\n",
      "\n",
      "[63 rows x 5 columns]\n",
      "2023-12-10 01:57:21 - End of Transformation Phase\n"
     ]
    }
   ],
   "source": [
    "\"\"\"\n",
    "2. a. Change the car_model values to uppercase.\n",
    "b. Round the car prices to two decimal digits (for example 10373.14).\n",
    "c. Convert the Fuel column values to categorical values. That is, represent ‘Diesel’ with 1, ‘Petrol’\n",
    "with 2, and ‘CNG’ with 3.\n",
    "d. Finally, add a new column called car_age. The values in this column should be difference between\n",
    "the current year (2022) and the manufacturing year of the car. For instance, if the\n",
    "manufacturing_year is 2012, then the corresponding value in car_age should be 10 (2022 – 2012).\n",
    "\"\"\"\n",
    "log_message('Start of Transformation Phase')\n",
    "def transform_data(dataframe):\n",
    "    # a. Change car_model values to uppercase\n",
    "    dataframe['car_model'] = dataframe['car_model'].str.upper()\n",
    "\n",
    "    # b. Round car prices to two decimal digits\n",
    "    dataframe['price'] = dataframe['price'].round(2)\n",
    "\n",
    "    # c. Convert Fuel column values to categorical values\n",
    "    categorical_values = {'Diesel': 1, 'Petrol': 2, 'CNG': 3}\n",
    "    dataframe['fuel'] = dataframe['fuel'].map(categorical_values)\n",
    "\n",
    "    # d. Add a new column, car_age\n",
    "    current_year = 2022\n",
    "    dataframe['car_age'] = current_year - dataframe['year_of_manufacture']\n",
    "    print(dataframe)\n",
    "    return dataframe\n",
    "transform_frame=transform_data(dataframe_extracted)\n",
    "log_message('End of Transformation Phase')\n"
   ]
  },
  {
   "cell_type": "code",
   "execution_count": 4,
   "id": "fedd3cdd-f8c4-4578-bbc0-a6ed104d7917",
   "metadata": {},
   "outputs": [
    {
     "name": "stdout",
     "output_type": "stream",
     "text": [
      "2023-12-10 01:57:21 - Start of Load Phase\n",
      "  car_model  year_of_manufacture     price  fuel  car_age\n",
      "0      RITZ                 2014   5000.00     2        8\n",
      "1       SX4                 2013   7089.55     1        9\n",
      "2      CIAZ                 2017  10820.90     2        5\n",
      "3   WAGON R                 2011   4253.73     2       11\n",
      "4     SWIFT                 2014   6865.67     1        8\n",
      "2023-12-10 01:57:22 - End load Phase\n"
     ]
    }
   ],
   "source": [
    "#3. Load Phase: Load the data into a sqlite database table.\n",
    "log_message('Start of Load Phase') \n",
    "import sqlite3\n",
    "def sqlite3_database(df):\n",
    "    con = sqlite3.connect('UsageCarData.db')\n",
    "    df.to_sql('car_data', con, index=False, if_exists='replace')\n",
    "    con.close()\n",
    "sqlite3_database(transform_frame)\n",
    "def load_database(df, table_name, database_path='UsageCarData.db'):\n",
    "    conn = sqlite3.connect(database_path)\n",
    "    df.to_sql(table_name, conn, index=False, if_exists='replace')\n",
    "    conn.close()\n",
    "def read_database(table_name, database_path='UsageCarData.db'):\n",
    "    conn = sqlite3.connect(database_path)\n",
    "    df = pandas.read_sql_query(f'SELECT * FROM {table_name}', conn)\n",
    "    conn.close()\n",
    "    return df\n",
    "table_name = 'used_cars_data'\n",
    "database_path = 'UsageCarData.db' \n",
    "load_database(dataframe_extracted, table_name, database_path)\n",
    "from_database = read_database(table_name, database_path)\n",
    "print(from_database.head())\n",
    "log_message('End load Phase')\n"
   ]
  },
  {
   "cell_type": "code",
   "execution_count": 7,
   "id": "7c910d9b-3975-4517-a36b-28d2f39aabce",
   "metadata": {},
   "outputs": [
    {
     "name": "stdout",
     "output_type": "stream",
     "text": [
      "2023-12-10 01:58:35 - Start of Analysis and Plot Phase\n"
     ]
    },
    {
     "data": {
      "image/png": "[encoded data removed]",
      "text/plain": [
       "<Figure size 864x576 with 1 Axes>"
      ]
     },
     "metadata": {
      "needs_background": "light"
     },
     "output_type": "display_data"
    },
    {
     "data": {
      "image/png": "[encoded data removed]",
      "text/plain": [
       "<Figure size 720x432 with 1 Axes>"
      ]
     },
     "metadata": {
      "needs_background": "light"
     },
     "output_type": "display_data"
    },
    {
     "data": {
      "image/png": "[encoded data removed]",
      "text/plain": [
       "<Figure size 576x576 with 1 Axes>"
      ]
     },
     "metadata": {},
     "output_type": "display_data"
    },
    {
     "name": "stdout",
     "output_type": "stream",
     "text": [
      "2023-12-10 01:58:37 - End of Analysis and plot Phase\n"
     ]
    }
   ],
   "source": [
    "\"\"\"\n",
    "4. Analysis and Plot Phase: 15 points\n",
    "a. Plot a graph where x-axis represents manufacturing-years and y-axis represents number of cars\n",
    "manufactured in those each years.\n",
    "b. Draw an histogram that represents car-prices, and create appropriate buckets/bins (at-least five).\n",
    "c. Using Pie chart plot the percentage of cars belonging to each fuel-type. For instance, there might\n",
    "be 20% diesel, 30% petrol, etc. \n",
    "\"\"\"\n",
    "log_message('Start of Analysis and Plot Phase')\n",
    "import matplotlib.pyplot \n",
    "# a. \n",
    "matplotlib.pyplot.figure(figsize=(12, 8))\n",
    "transform_frame['year_of_manufacture'].value_counts().sort_index().plot(kind='bar')\n",
    "matplotlib.pyplot.xlabel('Year of Manufucture')\n",
    "matplotlib.pyplot.ylabel('Number of Cars')\n",
    "matplotlib.pyplot.title('Number of Cars Manufactured per Year')\n",
    "matplotlib.pyplot.show()\n",
    "# b. \n",
    "matplotlib.pyplot.figure(figsize=(10, 6))\n",
    "transform_frame['price'].hist(bins=8)\n",
    "matplotlib.pyplot.xlabel('Car Price')\n",
    "matplotlib.pyplot.ylabel('Frequency')\n",
    "matplotlib.pyplot.title('Car Prices')\n",
    "matplotlib.pyplot.show()\n",
    "# c.\n",
    "matplotlib.pyplot.figure(figsize=(8, 8))\n",
    "transform_frame['fuel'].value_counts().plot.pie(autopct='%1.1f%%', startangle=90)\n",
    "matplotlib.pyplot.title('Percentage of cars belonging to each fuel-type.')\n",
    "matplotlib.pyplot.show()\n",
    "\n",
    "log_message('End of Analysis and plot Phase')\n"
   ]
  }
 ],
 "metadata": {
  "kernelspec": {
   "display_name": "Python 3 (ipykernel)",
   "language": "python",
   "name": "python3"
  },
  "language_info": {
   "codemirror_mode": {
    "name": "ipython",
    "version": 3
   },
   "file_extension": ".py",
   "mimetype": "text/x-python",
   "name": "python",
   "nbconvert_exporter": "python",
   "pygments_lexer": "ipython3",
   "version": "3.9.7"
  }
 },
 "nbformat": 4,
 "nbformat_minor": 5
}
